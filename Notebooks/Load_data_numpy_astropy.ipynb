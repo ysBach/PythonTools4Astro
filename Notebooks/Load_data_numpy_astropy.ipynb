{
 "cells": [
  {
   "cell_type": "markdown",
   "metadata": {},
   "source": [
    "# Load Data using ``numpy`` or ``astropy``\n",
    "\n",
    "Made by **Yoonsoo P. Bach** (Seoul National University)"
   ]
  },
  {
   "cell_type": "code",
   "execution_count": 1,
   "metadata": {},
   "outputs": [
    {
     "name": "stdout",
     "output_type": "stream",
     "text": [
      "Last Updated: 2017-07-22 23:55:15 KST (GMT+0900)\n"
     ]
    }
   ],
   "source": [
    "# Made by **Yoonsoo P. Bach** (Seoul National University)\n",
    "import datetime\n",
    "print('Last Updated: {} KST (GMT+0900)'.format(datetime.datetime.now().strftime(\"%Y-%m-%d %H:%M:%S\")))"
   ]
  },
  {
   "cell_type": "markdown",
   "metadata": {},
   "source": [
    "This note is motivated by the fact that many people are struggling with loading data set using python. Unlike C, it's much simpler, but different from R or IDL, which are familiar to many astronomers. In this note, I will demonstrate how to load the following data table **saved in csv format** and utilize it:"
   ]
  },
  {
   "cell_type": "code",
   "execution_count": 2,
   "metadata": {},
   "outputs": [
    {
     "name": "stdout",
     "output_type": "stream",
     "text": [
      "image captured from LibreOffice Calc\n"
     ]
    },
    {
     "data": {
      "image/png": "[encoded data removed]",
      "text/plain": [
       "<IPython.core.display.Image object>"
      ]
     },
     "execution_count": 2,
     "metadata": {
      "image/png": {
       "width": 500
      }
     },
     "output_type": "execute_result"
    }
   ],
   "source": [
    "from IPython.display import Image\n",
    "print('image captured from LibreOffice Calc')\n",
    "Image(\"img/sample_data.png\", width=500)"
   ]
  },
  {
   "cell_type": "markdown",
   "metadata": {},
   "source": [
    "Our goals are:\n",
    "\n",
    "* Import data using [``numpy.loadtxt``](https://docs.scipy.org/doc/numpy/reference/generated/numpy.loadtxt.html) or [``numpy.genfromtxt``](https://docs.scipy.org/doc/numpy/reference/generated/numpy.genfromtxt.html) first. \n",
    "* Save specific row/column as a variable\n",
    "* Convert types (string to integer or float, etc)\n",
    "* See these sometimes not work as convenient as we expect. \n",
    "* Then try [``astropy.table.Table``](http://docs.astropy.org/en/stable/table/).\n",
    "\n",
    "There are many possibilities to import this table.\n",
    "\n",
    "1. import all the data values including integer, string, float, etc, at once.\n",
    "2. import all but ignore the header (column names) and/or footer\n",
    "3. import the rows only with full data (one blank = reject)\n",
    "4. import only the \"id\", \"mass\", and \"luminosity\" (since all these are just floats)\n",
    "5. import IRAF-format table\n",
    "\n",
    ".....\n",
    "\n",
    "I will demonstrate all these."
   ]
  },
  {
   "cell_type": "code",
   "execution_count": 3,
   "metadata": {
    "collapsed": true
   },
   "outputs": [],
   "source": [
    "import numpy as np\n",
    "from astropy.table import Table, QTable\n",
    "from astropy import units as u\n",
    "from astropy import constants as c\n",
    "fileloc = \"data/sample_data.csv\""
   ]
  },
  {
   "cell_type": "markdown",
   "metadata": {},
   "source": [
    "Since the data are comma-seperated, we have to specify ``delimeter=','`` all the time. Although this may look redundant, *python has philosophy to state as explicit as possible* (e.g., [Zen of Python](https://en.wikipedia.org/wiki/Zen_of_Python)). "
   ]
  },
  {
   "cell_type": "markdown",
   "metadata": {},
   "source": [
    "## Import Using ``numpy.loadtxt``"
   ]
  },
  {
   "cell_type": "code",
   "execution_count": 4,
   "metadata": {},
   "outputs": [
    {
     "name": "stdout",
     "output_type": "stream",
     "text": [
      "[['id' 'name' 'mass' 'luminosity' 'comment' 'observer']\n",
      " ['1' 'aa' '10' '2' '0' 'John']\n",
      " ['2' 'bb' '20' '5' '0' 'John']\n",
      " ['3' 'cc' '30' '' '0' 'Amy']\n",
      " ['4' 'dd' '20' '3' '0' 'Amy']\n",
      " ['5' 'ee' '' '1' '0' 'unknown']\n",
      " ['6' 'ff' '10' '6' '0' 'Amy']\n",
      " ['7' 'gg' '20' '' '0' 'John']\n",
      " ['8' 'hh' '10' '3' '0' 'John']\n",
      " ['9' 'ii' '30' '2' '0' 'noname']\n",
      " ['10' 'jj' '10' '7' '0' 'noname']\n",
      " ['' 'avg' '17.7777777778' '3.625' '0' '']]\n",
      "\n",
      "The following is the comment data converted to float type\n",
      "[ 0.  0.  0.  0.  0.  0.  0.  0.  0.  0.  0.]\n"
     ]
    }
   ],
   "source": [
    "data = np.loadtxt(fileloc, delimiter=',', dtype=bytes).astype(str)\n",
    "data_comment_float = data[1:, 4].astype(float)\n",
    "print(data)\n",
    "print('\\nThe following is the comment data converted to float type')\n",
    "print(data_comment_float)"
   ]
  },
  {
   "cell_type": "markdown",
   "metadata": {},
   "source": [
    "You can see that the data table is loaded as expected. You may wonder why we need ``dtype=bytes`` and ``.astype(str)``. Basically because python 3 loads all data as ``bytes`` type, not ``str`` type. In python 2, it loaded things in ``str``, and there was no type called ``bytes``. But due to certain reasons, python 3 requires more explicit settings.\n",
    "\n",
    "> Why python 3 is different from 2? See section \"why\" of [python 3 statements](http://www.python3statement.org/), especially [why python 3 exists](https://snarky.ca/why-python-3-exists/), and the presentation slide 50-53 of [Aaron Meurer](www.asmeurer.com/python3-presentation/slides.html) for examples of python 2 problems. There will be no such dramatic change to python in the future, as explained in [Nick Coghlan's posting](http://www.curiousefficiency.org/posts/2014/08/python-4000.html).\n",
    "\n",
    "**In short, memorize ``np.loadtxt( ~~~~ , dtype=bytes).astype(str) `` as an idiom!**"
   ]
  },
  {
   "cell_type": "markdown",
   "metadata": {},
   "source": [
    "If you want to convert mass column into float: \n",
    "\n",
    "```python\n",
    "data_mass_float = data[:, 2].astype(float)\n",
    "```\n",
    "you will see an **error**. There are two reasons: (1) row 0 is string (``\"mass\"``) and (2) row 5 is size zero string (``\"\"``). First one can be circumvented using ``skiprows`` option (see below), but second is not possible. For this reason, it is not very desirable to use ``numpy.loadtxt`` when there are blank data and/or there are header/footers.\n",
    "\n",
    "Before moving to ``numpy.genfromtxt`` which clearly alleviates this problem, let me summarize some other functionalities in ``numpy.loadtxt``:\n",
    "\n",
    "* If you want to use only the third/fourth (python index 2, 3) columns:\n",
    "```python\n",
    "data = np.loadtxt(fileloc, delimiter=',', usecols=(2, 3), dtype=bytes).astype(str)\n",
    "```\n",
    "* If you want to load the same columns with skipping the first row (one row):\n",
    "```python\n",
    "data = np.loadtxt(fileloc, delimiter=',', usecols=(2, 3), skiprows=1, dtype=bytes).astype(str)\n",
    "```\n",
    "* If you want to load the last column directly as float:\n",
    "```python\n",
    "data = np.loadtxt(fileloc, delimiter=',', usecols=(4), skiprows=1, dtype=float)\n",
    "```\n",
    "* If you want to declare variable faster:\n",
    "```python\n",
    "ids, comment = np.loadtxt(fileloc, delimiter=',', skiprows=1, usecols=(0,4), dtype=bytes, unpack=True).astype(str)\n",
    "```\n"
   ]
  },
  {
   "cell_type": "markdown",
   "metadata": {},
   "source": [
    "## Import Using ``numpy.genfromtxt``\n",
    "\n",
    "``genfromtxt`` has few more convenient options such as \n",
    "\n",
    "* ``missing_values``: e.g., I want to regard ``observer==\"unknown\"`` as missing data points, then set this to ``\"unknown\"``\n",
    "* ``filling_vales``: change empty cell value\n",
    "* ``usemask``: For the above two to work correctly, set this to ``True``. The output will be ``numpy.ma`` (masked array).\n",
    "* ``skip_header`` and ``skip_footer``: number of header/footer rows to ignore\n",
    "\n",
    "You may realized that this is quite difficult as a front-end user to utilize all these functionalities. I first will demonstrate how to use this, and then move to ``astropy.table.Table``."
   ]
  },
  {
   "cell_type": "code",
   "execution_count": 5,
   "metadata": {},
   "outputs": [
    {
     "name": "stdout",
     "output_type": "stream",
     "text": [
      "data only:\n",
      "[['1' 'aa' '10' '2' '0' 'John']\n",
      " ['2' 'bb' '20' '5' '0' 'John']\n",
      " ['3' 'cc' '30' '' '0' 'Amy']\n",
      " ['4' 'dd' '20' '3' '0' 'Amy']\n",
      " ['5' 'ee' '' '1' '0' 'unknown']\n",
      " ['6' 'ff' '10' '6' '0' 'Amy']\n",
      " ['7' 'gg' '20' '' '0' 'John']\n",
      " ['8' 'hh' '10' '3' '0' 'John']\n",
      " ['9' 'ii' '30' '2' '0' 'noname']\n",
      " ['10' 'jj' '10' '7' '0' 'noname']\n",
      " ['' 'avg' '17.7777777778' '3.625' '0' '']]\n",
      "masking:\n",
      "[[False False False False False False]\n",
      " [False False False False False False]\n",
      " [False False False  True False False]\n",
      " [False False False False False False]\n",
      " [False False  True False False  True]\n",
      " [False False False False False False]\n",
      " [False False False  True False False]\n",
      " [False False False False False False]\n",
      " [False False False False False False]\n",
      " [False False False False False False]\n",
      " [ True False False False False  True]]\n"
     ]
    }
   ],
   "source": [
    "data = np.genfromtxt(fileloc, delimiter=',', \n",
    "                     skip_header=1,\n",
    "                     missing_values=\"unknown\",\n",
    "                     filling_values=-999,\n",
    "                     dtype=bytes, \n",
    "                     usemask=True).astype(str)\n",
    "print(\"data only:\")\n",
    "print(data.data) # the real data part of masked array\n",
    "print(\"masking:\")\n",
    "print(data.mask) # the masking part of masked array"
   ]
  },
  {
   "cell_type": "markdown",
   "metadata": {},
   "source": [
    "You can see that blanked cells as well as the ``missing_values`` cell (cell with ``\"unknown\"``) are indicated as ``--`` (masked). These masked region corresponds to the cells where ``data.mask == True``.\n",
    "\n",
    "If you do not use ``usemask`` option, you will see nothing changes."
   ]
  },
  {
   "cell_type": "markdown",
   "metadata": {},
   "source": [
    "## Using ``astropy.table.Table``\n",
    "\n",
    "If data contains complicated datatypes (string, float, integer, boolean, ...) with combination of different units, it is quite bothersome to utilize ``numpy``. Astropy has already made a convenient module (astropy table). It can do\n",
    "\n",
    "* Pretty printings\n",
    "* Print the table in LATEX format\n",
    "* Read IRAF or DAOFIND format table\n",
    "* Attribute units to columns (e.g., 10^14 M_sun, 10^3 AU, arcsec/yr, etc)\n",
    "* Easy stacking\n",
    "\n",
    "....\n",
    "\n",
    "Astropy table has two forms: ``Table`` and ``QTable``. Slight difference between ``Table`` and ``QTable`` is given [here](http://docs.astropy.org/en/stable/table/mixin_columns.html#quantity-and-qtable):\n",
    "\n",
    "> The only difference between QTable and Table is the behavior when adding a column that has a specified unit.\n",
    "\n",
    "Since I also want to demonstrate table columns with units, I will use ``QTable``.\n",
    "\n",
    "There are also few rules we have to keep in mind:\n",
    "\n",
    "* Row should be \"each target\" (object 1, object 2, ...)\n",
    "* Column should be \"each characteristic\" (mass, luminosity, ...)\n",
    "* There should be no blanks\n",
    "\n",
    "In our case, the third rule has broke down; still we can deal with the data, since these are rules, not laws.\n",
    "\n",
    "Loading the data using ``genfromtxt`` and make a ``QTable`` object:"
   ]
  },
  {
   "cell_type": "code",
   "execution_count": 6,
   "metadata": {},
   "outputs": [
    {
     "name": "stdout",
     "output_type": "stream",
     "text": [
      " id name          mass          luminosity comment observer\n",
      "                   kg               Jy                     \n",
      "--- ---- ---------------------- ---------- ------- --------\n",
      "  1   aa 1.9884754153381437e+45        2.0       0     John\n",
      "  2   bb 3.9769508306762875e+45        5.0       0     John\n",
      "  3   cc  5.965426246014432e+45        nan       0      Amy\n",
      "  4   dd 3.9769508306762875e+45        3.0       0      Amy\n",
      "  5   ee                    nan        1.0       0       --\n",
      "  6   ff 1.9884754153381437e+45        6.0       0      Amy\n",
      "  7   gg 3.9769508306762875e+45        nan       0     John\n",
      "  8   hh 1.9884754153381437e+45        3.0       0     John\n",
      "  9   ii  5.965426246014432e+45        2.0       0   noname\n",
      " 10   jj 1.9884754153381437e+45        7.0       0   noname\n",
      "================================================================================\n",
      "<QTable masked=True length=10>\n",
      "   name     dtype  unit    class     n_bad\n",
      "---------- ------- ---- ------------ -----\n",
      "        id   int64      MaskedColumn     0\n",
      "      name   str10      MaskedColumn     0\n",
      "      mass float64   kg     Quantity     0\n",
      "luminosity float64   Jy     Quantity     0\n",
      "   comment   str10      MaskedColumn     0\n",
      "  observer   str10      MaskedColumn     1\n",
      "\n",
      "================================================================================\n",
      "convert luminosity to SI unit:\n",
      "\n",
      "[  2.00000000e-26   5.00000000e-26              nan   3.00000000e-26\n",
      "   1.00000000e-26   6.00000000e-26              nan   3.00000000e-26\n",
      "   2.00000000e-26   7.00000000e-26] W / (Hz m2)\n",
      "================================================================================\n",
      "convert mass to energy unit (E = mc^2):\n",
      "[  1.78715258e+62   3.57430515e+62   5.36145773e+62   3.57430515e+62\n",
      "              nan   1.78715258e+62   3.57430515e+62   1.78715258e+62\n",
      "   5.36145773e+62   1.78715258e+62] J\n"
     ]
    }
   ],
   "source": [
    "fileloc = \"data/sample_data.csv\"\n",
    "data = np.genfromtxt(fileloc, \n",
    "                     delimiter=',',\n",
    "                     skip_footer=1,\n",
    "                     missing_values=\"unknown\",\n",
    "                     usemask=True, \n",
    "                     dtype=bytes).astype(str)\n",
    "\n",
    "tab = QTable(masked=True)                   # initialize\n",
    "\n",
    "# Instead of assigning each column, let me use a for loop:\n",
    "colname = data.data[0, :]                   # extract column names\n",
    "N_cols  = np.shape(colname)[0]              # number of columns\n",
    "dtypes = [int, str, float, float, str, str] # which datatype you wanna use for each column\n",
    "\n",
    "for i in range(N_cols):\n",
    "    tab[colname[i]] = np.ma.filled(data[1:, i],\n",
    "                                   fill_value = np.NaN).astype(dtypes[i]) \n",
    "\n",
    "tab.mask = QTable(data.mask[1:, :])          # set mask same as that of ``data``    \n",
    "\n",
    "# Set units of columns\n",
    "tab['mass'] *= 1.e14 * c.M_sun\n",
    "tab['mass'].unit = u.kg  \n",
    "tab['luminosity'].unit = u.Jy\n",
    "\n",
    "# Print results\n",
    "print(tab)\n",
    "print('='*80)\n",
    "print(tab.info)\n",
    "print('='*80)\n",
    "print('convert luminosity to SI unit:')\n",
    "print()\n",
    "print(tab['luminosity'].to(u.W/u.m**2/u.Hz))\n",
    "print('='*80)\n",
    "print('convert mass to energy unit (E = mc^2):')\n",
    "print( (tab['mass'] * c.c**2).to(u.J) )\n"
   ]
  },
  {
   "cell_type": "markdown",
   "metadata": {},
   "source": [
    "FYI, ``np.NaN`` is regarded as ``float``, so you can do usual arithmetics with ``NaN`` without any problems.\n",
    "\n",
    "I also assigned units for two columns using ``astropy.constants`` and ``astropy.units``. Then for the luminosity, I demonstrated how to change unit to an equivalent unit. For mass, I converted kg to J by using $E = mc^2$.\n",
    "\n",
    "Try ``print(tab.info('stats'))`` by yourself to see what comes out."
   ]
  },
  {
   "cell_type": "markdown",
   "metadata": {},
   "source": [
    "### More on Astropy Table\n",
    "\n",
    "I want to demonstrate few more features of astropy table.\n"
   ]
  },
  {
   "cell_type": "code",
   "execution_count": 7,
   "metadata": {},
   "outputs": [
    {
     "name": "stdout",
     "output_type": "stream",
     "text": [
      " id name        mass       luminosity comment observer\n",
      "                 kg            Jy                     \n",
      "--- ---- ----------------- ---------- ------- --------\n",
      "  3   cc 5.96542624601e+45        nan       0      Amy\n",
      "  4   dd 3.97695083068e+45        3.0       0      Amy\n",
      "  6   ff 1.98847541534e+45        6.0       0      Amy\n",
      "  1   aa 1.98847541534e+45        2.0       0     John\n",
      "  2   bb 3.97695083068e+45        5.0       0     John\n",
      "  7   gg 3.97695083068e+45        nan       0     John\n",
      "  8   hh 1.98847541534e+45        3.0       0     John\n",
      "  9   ii 5.96542624601e+45        2.0       0   noname\n",
      " 10   jj 1.98847541534e+45        7.0       0   noname\n",
      "  5   ee               nan        1.0       0  unknown\n",
      "observer\n",
      "--------\n",
      "     Amy\n",
      "    John\n",
      "  noname\n",
      " unknown\n",
      "[ 0  3  7  9 10]\n"
     ]
    }
   ],
   "source": [
    "# Grouping\n",
    "\n",
    "tab_T = Table(tab)\n",
    "tab_T['observer'][4] = \"unknown\"  \n",
    "# revert unknown, since ``group_by`` does not work with mask\n",
    "tab_T_sort = tab_T.group_by('observer')\n",
    "\n",
    "print(tab_T_sort)\n",
    "print(tab_T_sort.groups.keys)\n",
    "print(tab_T_sort.groups.indices)"
   ]
  },
  {
   "cell_type": "markdown",
   "metadata": {},
   "source": [
    "The results can be understood as (see [astropy table document](http://docs.astropy.org/en/stable/table/operations.html#table-groups) too):\n",
    "\n",
    "```\n",
    "id name    mass    luminosity comment observer\n",
    "             kg         Jy                     \n",
    "--- ---- ---------- ---------- ------- --------\n",
    "  3   cc 5.9673e+45        nan       0      Amy  <--- start (~.groups.index = 0)\n",
    "  4   dd 3.9782e+45        3.0       0      Amy\n",
    "  6   ff 1.9891e+45        6.0       0      Amy\n",
    "  1   aa 1.9891e+45        2.0       0     John  <--- Change group (~.groups.index = 3)\n",
    "  2   bb 3.9782e+45        5.0       0     John\n",
    "  7   gg 3.9782e+45        nan       0     John\n",
    "  8   hh 1.9891e+45        3.0       0     John\n",
    "  9   ii 5.9673e+45        2.0       0   noname  <--- Change group (~.groups.index = 7)\n",
    " 10   jj 1.9891e+45        7.0       0   noname\n",
    "  5   ee        nan        1.0       0  unknown  <--- Change group (~.groups.index = 9)\n",
    "                                                 <--- End of data (~.groups.index = 10)\n",
    "  \n",
    "```"
   ]
  },
  {
   "cell_type": "code",
   "execution_count": 10,
   "metadata": {},
   "outputs": [
    {
     "data": {
      "text/html": [
       "&lt;QTable masked=True length=10&gt;\n",
       "<table id=\"table140612811198816-250166\" class=\"table-striped table-bordered table-condensed\">\n",
       "<thead><tr><th>idx</th><th>id</th><th>name</th><th>mass</th><th>luminosity</th><th>comment</th><th>observer</th></tr></thead>\n",
       "<thead><tr><th></th><th></th><th></th><th>kg</th><th>Jy</th><th></th><th></th></tr></thead>\n",
       "<tr><td>0</td><td>1</td><td>aa</td><td>1.9884754153381437e+45</td><td>2.0</td><td>0</td><td>John</td></tr>\n",
       "<tr><td>1</td><td>2</td><td>bb</td><td>3.9769508306762875e+45</td><td>5.0</td><td>0</td><td>John</td></tr>\n",
       "<tr><td>2</td><td>3</td><td>cc</td><td>5.965426246014432e+45</td><td>nan</td><td>0</td><td>Amy</td></tr>\n",
       "<tr><td>3</td><td>4</td><td>dd</td><td>3.9769508306762875e+45</td><td>3.0</td><td>0</td><td>Amy</td></tr>\n",
       "<tr><td>4</td><td>5</td><td>ee</td><td>nan</td><td>1.0</td><td>0</td><td>--</td></tr>\n",
       "<tr><td>5</td><td>6</td><td>ff</td><td>1.9884754153381437e+45</td><td>6.0</td><td>0</td><td>Amy</td></tr>\n",
       "<tr><td>6</td><td>7</td><td>gg</td><td>3.9769508306762875e+45</td><td>nan</td><td>0</td><td>John</td></tr>\n",
       "<tr><td>7</td><td>8</td><td>hh</td><td>1.9884754153381437e+45</td><td>3.0</td><td>0</td><td>John</td></tr>\n",
       "<tr><td>8</td><td>9</td><td>ii</td><td>5.965426246014432e+45</td><td>2.0</td><td>0</td><td>noname</td></tr>\n",
       "<tr><td>9</td><td>10</td><td>jj</td><td>1.9884754153381437e+45</td><td>7.0</td><td>0</td><td>noname</td></tr>\n",
       "</table><style>table.dataTable {clear: both; width: auto !important; margin: 0 !important;}\n",
       ".dataTables_info, .dataTables_length, .dataTables_filter, .dataTables_paginate{\n",
       "display: inline-block; margin-right: 1em; }\n",
       ".paginate_button { margin-right: 5px; }\n",
       "</style>\n",
       "<script>\n",
       "\n",
       "var astropy_sort_num = function(a, b) {\n",
       "    var a_num = parseFloat(a);\n",
       "    var b_num = parseFloat(b);\n",
       "\n",
       "    if (isNaN(a_num) && isNaN(b_num))\n",
       "        return ((a < b) ? -1 : ((a > b) ? 1 : 0));\n",
       "    else if (!isNaN(a_num) && !isNaN(b_num))\n",
       "        return ((a_num < b_num) ? -1 : ((a_num > b_num) ? 1 : 0));\n",
       "    else\n",
       "        return isNaN(a_num) ? -1 : 1;\n",
       "}\n",
       "\n",
       "require.config({paths: {\n",
       "    datatables: 'https://cdn.datatables.net/1.10.12/js/jquery.dataTables.min'\n",
       "}});\n",
       "require([\"datatables\"], function(){\n",
       "    console.log(\"$('#table140612811198816-250166').dataTable()\");\n",
       "    \n",
       "jQuery.extend( jQuery.fn.dataTableExt.oSort, {\n",
       "    \"optionalnum-asc\": astropy_sort_num,\n",
       "    \"optionalnum-desc\": function (a,b) { return -astropy_sort_num(a, b); }\n",
       "});\n",
       "\n",
       "    $('#table140612811198816-250166').dataTable({\n",
       "        order: [],\n",
       "        pageLength: 50,\n",
       "        lengthMenu: [[10, 25, 50, 100, 500, 1000, -1], [10, 25, 50, 100, 500, 1000, 'All']],\n",
       "        pagingType: \"full_numbers\",\n",
       "        columnDefs: [{targets: [0, 1, 3, 4], type: \"optionalnum\"}]\n",
       "    });\n",
       "});\n",
       "</script>\n"
      ],
      "text/plain": [
       "<IPython.core.display.HTML object>"
      ]
     },
     "execution_count": 10,
     "metadata": {},
     "output_type": "execute_result"
    }
   ],
   "source": [
    "# Fancy output\n",
    "tab.show_in_notebook()\n",
    "# If you run it on your pc by yourself, you can see \"search\" tools, too."
   ]
  },
  {
   "cell_type": "code",
   "execution_count": 9,
   "metadata": {
    "collapsed": true
   },
   "outputs": [],
   "source": [
    "# write in LATEX format\n",
    "tab_T.write('data/sample_data.tex', format='latex', overwrite=True)"
   ]
  },
  {
   "cell_type": "markdown",
   "metadata": {},
   "source": [
    "You may have obtained the following tex file:\n",
    "\n",
    "``` latex\n",
    "\\begin{table}\n",
    "\\begin{tabular}{cccccc}\n",
    "id & name & mass & luminosity & comment & observer \\\\\n",
    " &  & $\\mathrm{kg}$ & $\\mathrm{Jy}$ &  &  \\\\\n",
    "1 & aa & 1.9891e+45 & 2.0 & 0 & John \\\\\n",
    "2 & bb & 3.9782e+45 & 5.0 & 0 & John \\\\\n",
    "3 & cc & 5.9673e+45 & nan & 0 & Amy \\\\\n",
    "4 & dd & 3.9782e+45 & 3.0 & 0 & Amy \\\\\n",
    "5 & ee & nan & 1.0 & 0 &  \\\\\n",
    "6 & ff & 1.9891e+45 & 6.0 & 0 & Amy \\\\\n",
    "7 & gg & 3.9782e+45 & nan & 0 & John \\\\\n",
    "8 & hh & 1.9891e+45 & 3.0 & 0 & John \\\\\n",
    "9 & ii & 5.9673e+45 & 2.0 & 0 & noname \\\\\n",
    "10 & jj & 1.9891e+45 & 7.0 & 0 & noname \\\\\n",
    "\\end{tabular}\n",
    "\\end{table}\n",
    "```\n",
    "\n",
    "If you don't like ``5.9673e+45``, for example, and use ``%5.3f`` format in $10^{14}M_{\\odot}$ unit, you can tune ``format`` of column:\n",
    "\n",
    "```python\n",
    "tab_T['mass'].format = '{:5.3f}' # new python 3 format style.\n",
    "# identical to tab_T['mass'].format = \"%5.3f\"\n",
    "tab_T.write('data/sample_data.tex', format='latex', overwrite=True)\n",
    "```\n",
    "\n",
    "AASTeX deluxetable format is also supported:\n",
    "```python\n",
    "tab_T.write('data/sample_data.tex', format='aastex', overwrite=True)\n",
    "```"
   ]
  }
 ],
 "metadata": {
  "kernelspec": {
   "display_name": "Python 3",
   "language": "python",
   "name": "python3"
  },
  "language_info": {
   "codemirror_mode": {
    "name": "ipython",
    "version": 3
   },
   "file_extension": ".py",
   "mimetype": "text/x-python",
   "name": "python",
   "nbconvert_exporter": "python",
   "pygments_lexer": "ipython3",
   "version": "3.6.3"
  }
 },
 "nbformat": 4,
 "nbformat_minor": 2
}
