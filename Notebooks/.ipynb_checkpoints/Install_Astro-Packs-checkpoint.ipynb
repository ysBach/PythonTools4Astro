{
 "cells": [
  {
   "cell_type": "markdown",
   "metadata": {},
   "source": [
    "# Installing Astronomy-Related SW & Packages\n",
    "\n",
    "Made by **Yoonsoo P. Bach** (Seoul National University)"
   ]
  },
  {
   "cell_type": "code",
   "execution_count": 1,
   "metadata": {},
   "outputs": [
    {
     "name": "stdout",
     "output_type": "stream",
     "text": [
      "Last Updated: 2017-07-22 23:56:47 KST (GMT+0900)\n"
     ]
    }
   ],
   "source": [
    "# Made by **Yoonsoo P. Bach** (Seoul National University)\n",
    "import datetime\n",
    "print('Last Updated: {} KST (GMT+0900)'.format(datetime.datetime.now().strftime(\"%Y-%m-%d %H:%M:%S\")))"
   ]
  },
  {
   "cell_type": "markdown",
   "metadata": {},
   "source": [
    "## Summary\n",
    "\n",
    "Here I will introduce softwares or packages that are essential to do astronomical data reduction. This is a summary note of installation. Detailed installation instruction is given later if necessary.\n",
    "\n",
    "For the following ``conda`` installation, you need Anaconda installed. Also ``git`` is recommended to be installed (``sudo apt-get install git``). If possible, I showed ``conda install -c astropy`` installation, not ``pip`` installation.\n",
    "\n",
    "* **Anaconda** (including most of necessary Python packages)\n",
    "  * Go to [Continuum](https://www.continuum.io/downloads) and download the most recent version of Anaconda. See next subsection.\n",
    "  * By installing anaconda, you will automatically have the followings:\n",
    "    * Core parts of astropy\n",
    "    * ``numpy``, ``scipy``, ``matplotlib``, etc.\n",
    "\n",
    "* STScI distribution of IRAF (**Astroconda**)\n",
    "  * Go to [AstroConda Docs](http://astroconda.readthedocs.io/en/latest/). See next subsection.\n",
    "\n",
    "\n",
    "* **Astropy Affiliated Packages**: For the following packages, see [this summary page](http://www.astropy.org/affiliated/index.html).\n",
    "  * Install some most extensively used ones:\n",
    "  ```\n",
    "  conda install -c astropy photutils aplpy astroquery ccdproc astroacrappy ginga\n",
    "  #                ^       \n",
    "  #                channel\n",
    "  ```\n",
    "  * ``photutils``: Used for photometric data reduction (aperture photometry, extended source, etc).\n",
    "  * ``APLpy``: To generate \"publication quality\" images/plots.\n",
    "  * ``astroquery``: Python package to \"query\" astronomical data (e.g., instead of using SQL).  \n",
    "  * ``ccdproc``: To deal with CCD data (easier FITS header handling, image combine, etc).\n",
    "  * ``astroscrappy``: C++ & Python implementation of L.A.Cosmic.\n",
    "\n",
    "  * ``ginga``: Similar to SAO ds9. I *personally* recommend developer version. For developer version,\n",
    "  ```\n",
    "  cd ~\n",
    "  mkdir github\n",
    "  cd github\n",
    "  git clone https://github.com/ejeschke/ginga.git\n",
    "  cd ginga\n",
    "  git pull  # do this at this directory anytime when you wanna check updates in ginga\n",
    "  python setup.py install\n",
    "  ```\n",
    "  * Some other tools (``galpy``, ``glue``, ``halotools``, ``gammapy``, ``astroML``, etc) are available.\n",
    "\n",
    "\n",
    "* **Editor** for Python (only if you dislike Spyder; optional)\n"
   ]
  },
  {
   "cell_type": "markdown",
   "metadata": {},
   "source": [
    "## Anaconda\n",
    "\n",
    "All the IRAF/Astropy packages will be downloaded via a platform called **Anaconda**. So let's download [Anaconda](https://www.continuum.io/downloads). If you are running out of space and really want very small package, try **miniconda**.\n",
    "\n",
    "~~It doesn't matter which one you choose (Python 2 or 3)~~. I recommend to use Anaconda3 and use Python 3, since it is the *future* of Python. **Any official support for Python 2 will be ceased no later than 2020** (see [python 3 statements](http://www.python3statement.org/)). Regardless of your preference, favor, logical reasons, or arguments, I cannot recommend Python 2, since it is an irresponsivity as an instructor for educatees' future.\n",
    "\n",
    "Why python 3 is different from 2? See section \"why\" of python 3 statements, especially [why python 3 exists](https://snarky.ca/why-python-3-exists/), and the presentation slide 50-53 of [Aaron Meurer](www.asmeurer.com/python3-presentation/slides.html) for examples of python 2 problems. There will be no such dramatic change to python in the future, as explained in [Nick Coghlan's posting](http://www.curiousefficiency.org/posts/2014/08/python-4000.html).\n",
    "\n",
    "When the download is done, turn the terminal on and type as the website says.\n",
    "\n",
    "* **TIP**: To reduce your future annoyance, **answer \"``yes``\" to the \"``PATH``\" question**.\n",
    "\n",
    "**Close and re-open terminal**, and type \n",
    "\n",
    "```\n",
    "conda update --all\n",
    "```\n",
    "\n",
    "It may take ~ 10 mins.\n",
    "\n",
    "> Basic summary of useful commands in conda\n",
    "* ``conda update --all``\n",
    "  * update all installed packages.\n",
    "* ``conda install blahblah``\n",
    "  * install the package named ``blahblah``.\n",
    "* ``conda install -c astropy ccdproc``\n",
    "  * install the package named ``ccdproc`` in the channel named ``astropy``.\n",
    "* ``conda create -n ABC blahblah``\n",
    "  * create a new environment ``ABC``, and install the package ``blahblah`` to that env.\n",
    "* ``source activate ABC``\n",
    "  * activate the environment ``ABC`` on."
   ]
  },
  {
   "cell_type": "markdown",
   "metadata": {},
   "source": [
    "## IRAF (AstroConda)\n",
    "There have been a lot of different ways to install IRAF: First people had to download with a lot of commands including \"`cd ..`\", \"`wget blahblah`\", etc. Then STScI developed a huge pack of all necessary softwares, named **Ureka**, but using Ureka is deprecated since April 2016. Now we use **AstroConda**, a version-controlled package distribution by STScI via ``conda``. \n",
    "\n",
    "> Why some ways are deprecated so fast? Mainly because there are only limited amount of resources (human power, finance, ...). To reduce redundant workforce, STScI decided to maintain *only* the AstroConda for distributing IRAF. IRAF support itself has been phased out.\n",
    "\n",
    "The following is identical to the official website of [AstroConda](http://astroconda.readthedocs.io/en/latest/installation.html).\n",
    "\n",
    "In terminal, type the followings (This may take **tens of minutes** depending on the internet connections!)\n",
    "\n",
    "    conda config --add channels http://ssb.stsci.edu/astroconda\n",
    "    conda create -n iraf python=2.7 iraf-all pyraf-all stsci\n",
    "\n",
    "The name of the environment, `iraf`, is `iraf27` in the original official website, but I just prefer `iraf` for it's shorter. You can set it as any name you like.\n",
    "\n",
    "\n",
    "> The command ``conda create -n iraf`` means we create a new environment named ``iraf``. Alongside with formal description of environment: This is necessary to avoid future bugs to the packages contained in the environment named ``iraf``. If you update ``numpy`` for example, the ``iraf`` packages which were tested on older ``numpy`` might give unexpected output. If you activate the env ``iraf`` and do ``conda update --all``, however, all packages will be updated to the corresponding recent versions specified by STScI channel maintainers, which is very convenient."
   ]
  },
  {
   "cell_type": "markdown",
   "metadata": {},
   "source": [
    "## Testing Packages\n",
    "\n",
    "Type \n",
    "```\n",
    "ipython\n",
    "```\n",
    "and you will see ``IPython`` console. There type\n",
    "```\n",
    "import astropy, photutils, aplpy, astroquery, ccdproc, astroscrappy\n",
    "```\n",
    "and \n",
    "```\n",
    "pkg.test()\n",
    "```\n",
    "where ``pkg`` is one of the imported packages you want to test. Then python will automatically check all the test examples and gives test results.  Each dot(`.`) means `test passed` and `x` means `test failed`. But some of the failures are just OK. `s` means it is skipped for some reason. \n",
    "\n",
    "I did tests for **Astropy 1.3.1 and Photutils 0.3.1** (took ~ 10 mins) in 2017 March and got the following messages:\n",
    "\n",
    "```\n",
    "(long long test explanations....)\n",
    "======================== 1056 passed, 2 skipped, 2 xfailed in 82.18 seconds ========================\n",
    "(long long test explanations....)\n",
    "Some tests are known to fail when run from the IPython prompt; especially, but not limited to tests involving logging and warning handling.  Unless you are certain as to the cause of the failure, please check that the failure occurs outside IPython as well.  See http://docs.astropy.org/en/stable/known_issues.html#failing-logging-tests-when-running-the-tests-in-ipython for more information.\n",
    "== 24 failed, 8717 passed, 75 skipped, 42 xfailed, 1 xpassed, 2 pytest-warnings in 573.02 seconds ==\n",
    "```\n",
    "\n",
    "The astropy will do the tests automatically (takes ~ 10 minutes). There might be some errors, but usually they are not important, so you can ignore them. If ``astropy.test()`` itself does not work, please check whether the installation of Anaconda had been done correctly.\n"
   ]
  },
  {
   "cell_type": "markdown",
   "metadata": {},
   "source": [
    "## Editors\n",
    "There are bunch of different editors (including IDEs = Integrated Development Environment) to edit the codes. I personally use spyder (it is installed from Anaconda by default, and you can use it by double-click the spyder app icon or type `spyder &` on the terminal). \n",
    "\n",
    "Some may prefer **Wing** IDE, which is widely being used in educational institutions, or **MS Visual Studio Code**, **PyDev**, **PyCharm**, **Sublime text**, and even **VI** or **Emacs**. VI is quite powerful since it is accessible for virtually all of the computers around the world by default, and the debugger, gdb, is also accessible on terminal. If you have an IDE, it most likely contain its own fancy debugger, too. For Windows computers, **Visual Studio** is also a good choice. For Ubuntu, **gedit** or **geany** are also attractable choices. **Atom** is also a fancy editor. I use geany for miscellaneous and short works because it is extremely light, and Atom for coding C language-based programs. \n",
    "\n",
    "I have tried all the aforementioned editors, and settled down to the lightest, fastest, most intuitive/interactive, and yet functional editors after ~ 1 year of trial and error. BUT this is just my personal opinion, and you may find very different solution. I have many friends who use VI only for all the coding works. If you can, I recommend to use VI as your main editor, and at least learn how to use it. I don't use VI just because for me it is too difficult to use it.\n"
   ]
  },
  {
   "cell_type": "markdown",
   "metadata": {},
   "source": [
    "## Image Viewers\n",
    "\n",
    "In astronomical image reduction process, you need some tools to display images on computer screen to interactively investigate the images. There is a *historical standard*, which is kind of an *affiliated package of IRAF*, [SAO ds9](http://ds9.si.edu/site/Download.html):\n",
    "```\n",
    "sudo apt-get install saods9\n",
    "```\n",
    "or just download from the website. The most recent version as of July 2017 is ver 7.5. Great thing for ds9 is that it's almost OS independent.\n",
    "\n",
    "* **TIP**: Never use version 7.2! It has some serious bugs.\n",
    "\n",
    "In the future, Ginga will be another powerful option. We are not sure when Ginga will become quite *perfect*, but until then, I recommend you to use both of them. Their pros and cons will be explained from now.\n",
    "\n",
    "Some people use [Maxim DL](http://diffractionlimited.com/product/maxim-dl/), but it's commercial and used mostly by amateur astronomers. "
   ]
  }
 ],
 "metadata": {
  "kernelspec": {
   "display_name": "Python 3",
   "language": "python",
   "name": "python3"
  },
  "language_info": {
   "codemirror_mode": {
    "name": "ipython",
    "version": 3
   },
   "file_extension": ".py",
   "mimetype": "text/x-python",
   "name": "python",
   "nbconvert_exporter": "python",
   "pygments_lexer": "ipython3",
   "version": "3.6.1"
  }
 },
 "nbformat": 4,
 "nbformat_minor": 2
}
